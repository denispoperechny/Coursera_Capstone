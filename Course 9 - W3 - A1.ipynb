{
  "cells": [
    {
      "cell_type": "markdown",
      "source": [
        "**Data Science Capstone project**  \n",
        "Course 9 project"
      ],
      "metadata": {
        "nteract": {
          "transient": {
            "deleting": false
          }
        }
      }
    },
    {
      "cell_type": "markdown",
      "source": [
        "**Imports**"
      ],
      "metadata": {
        "nteract": {
          "transient": {
            "deleting": false
          }
        }
      }
    },
    {
      "cell_type": "code",
      "source": [
        "import pandas as pd\n",
        "import numpy as np\n"
      ],
      "outputs": [],
      "execution_count": 1,
      "metadata": {
        "collapsed": true,
        "jupyter": {
          "source_hidden": false,
          "outputs_hidden": false
        },
        "nteract": {
          "transient": {
            "deleting": false
          }
        },
        "gather": {
          "logged": 1610229522705
        }
      }
    },
    {
      "cell_type": "markdown",
      "source": [
        "**Load and wrangle indexes data from Wikipedia**\n"
      ],
      "metadata": {
        "nteract": {
          "transient": {
            "deleting": false
          }
        }
      }
    },
    {
      "cell_type": "code",
      "source": [
        "# Load raw data from Wikipedia\n",
        "df = pd.read_html('https://en.wikipedia.org/wiki/List_of_postal_codes_of_Canada:_M')[0]\n",
        "# ==\n",
        "# IMPORTANT: pandas has got a built-in function to parse HTML tables, so it makes a good fit for scrapping Wikipedia data. \n",
        "# ==\n",
        "\n",
        "\n",
        "# Remove NA Boroughs\n",
        "is_not_na = df['Borough'] != 'Not assigned'\n",
        "df1 = df[is_not_na]\n",
        "\n",
        "\n",
        "# Treat NA Neighbourhoods\n",
        "df2 = df1.copy()\n",
        "for index, row in df2.iterrows():\n",
        "    if df2.loc[index,'Neighbourhood'] == 'Not assigned':\n",
        "       df2.loc[index,'Neighbourhood'] = df2.loc[index,'Borough']\n",
        "\n",
        "# Note: Rows are already merged by Postal Code\n"
      ],
      "outputs": [],
      "execution_count": 2,
      "metadata": {
        "gather": {
          "logged": 1610229522821
        }
      }
    },
    {
      "cell_type": "markdown",
      "source": [
        "**View DF shape**"
      ],
      "metadata": {
        "nteract": {
          "transient": {
            "deleting": false
          }
        }
      }
    },
    {
      "cell_type": "code",
      "source": [
        "df2.shape"
      ],
      "outputs": [
        {
          "output_type": "execute_result",
          "execution_count": 3,
          "data": {
            "text/plain": "(103, 3)"
          },
          "metadata": {}
        }
      ],
      "execution_count": 3,
      "metadata": {
        "collapsed": true,
        "jupyter": {
          "source_hidden": false,
          "outputs_hidden": false
        },
        "nteract": {
          "transient": {
            "deleting": false
          }
        },
        "gather": {
          "logged": 1610229522930
        }
      }
    }
  ],
  "metadata": {
    "kernelspec": {
      "name": "python3-azureml",
      "language": "python",
      "display_name": "Python 3.6 - AzureML"
    },
    "language_info": {
      "name": "python",
      "version": "3.6.9",
      "mimetype": "text/x-python",
      "codemirror_mode": {
        "name": "ipython",
        "version": 3
      },
      "pygments_lexer": "ipython3",
      "nbconvert_exporter": "python",
      "file_extension": ".py"
    },
    "kernel_info": {
      "name": "python3-azureml"
    },
    "nteract": {
      "version": "nteract-front-end@1.0.0"
    }
  },
  "nbformat": 4,
  "nbformat_minor": 2
}
